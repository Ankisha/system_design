{
 "cells": [
  {
   "cell_type": "markdown",
   "metadata": {},
   "source": [
    "### What happens when you type a URL into your browser?"
   ]
  },
  {
   "cell_type": "markdown",
   "metadata": {},
   "source": [
    "##### URL parser"
   ]
  },
  {
   "cell_type": "code",
   "execution_count": 2,
   "metadata": {},
   "outputs": [],
   "source": [
    "# url parser in python\n",
    "import urllib.parse\n",
    "import socket\n",
    "import requests"
   ]
  },
  {
   "cell_type": "code",
   "execution_count": 3,
   "metadata": {},
   "outputs": [],
   "source": [
    "url = input(\"enter the url : \")\n"
   ]
  },
  {
   "cell_type": "code",
   "execution_count": 4,
   "metadata": {},
   "outputs": [
    {
     "name": "stdout",
     "output_type": "stream",
     "text": [
      "Scheme: https\n",
      "Domain: www.youtube.com\n",
      "Path: /watch\n",
      "Query Parameters: v=wXvljefXyEo&list=PLsdq-3Z1EPT36NJXTutvKcreetuHCr9a-&index=15\n"
     ]
    }
   ],
   "source": [
    "parsed_url = urllib.parse.urlparse(url)\n",
    "print(\"Scheme:\", parsed_url.scheme)\n",
    "print(\"Domain:\", parsed_url.netloc)\n",
    "print(\"Path:\", parsed_url.path)\n",
    "print(\"Query Parameters:\", parsed_url.query)"
   ]
  },
  {
   "cell_type": "markdown",
   "metadata": {},
   "source": [
    "##### DNS Resolution"
   ]
  },
  {
   "cell_type": "code",
   "execution_count": 5,
   "metadata": {},
   "outputs": [
    {
     "name": "stdout",
     "output_type": "stream",
     "text": [
      "IP Address: 142.250.193.142\n"
     ]
    }
   ],
   "source": [
    "# get the ip address of the domain\n",
    "domain = parsed_url.netloc\n",
    "ip_address = socket.gethostbyname(domain)\n",
    "print(\"IP Address:\", ip_address)\n",
    "#The socket.gethostbyname() function acts as an interface to the underlying operating system's DNS resolution mechanisms."
   ]
  },
  {
   "cell_type": "code",
   "execution_count": null,
   "metadata": {},
   "outputs": [],
   "source": [
    "#socket library provides low-level network programming tools. \n",
    "#Libraries like requests, which we used in our previous example, build upon these foundations to offer higher-level abstractions for common tasks like making HTTP requests."
   ]
  },
  {
   "cell_type": "markdown",
   "metadata": {},
   "source": [
    "##### HTTP requests"
   ]
  },
  {
   "cell_type": "code",
   "execution_count": 6,
   "metadata": {},
   "outputs": [
    {
     "name": "stdout",
     "output_type": "stream",
     "text": [
      "Response Content length: 1246046\n"
     ]
    }
   ],
   "source": [
    "try:\n",
    "    response = requests.get(url) # Make the GET request\n",
    "    response.raise_for_status() # Check for HTTP errors\n",
    "    print(\"Response Content length:\", len(response.text)) # Print the content\n",
    "except requests.exceptions.RequestException as e:\n",
    "    print(\"Error making request:\", e)"
   ]
  },
  {
   "cell_type": "code",
   "execution_count": null,
   "metadata": {},
   "outputs": [],
   "source": []
  },
  {
   "cell_type": "code",
   "execution_count": null,
   "metadata": {},
   "outputs": [],
   "source": []
  },
  {
   "cell_type": "code",
   "execution_count": null,
   "metadata": {},
   "outputs": [],
   "source": []
  },
  {
   "cell_type": "code",
   "execution_count": null,
   "metadata": {},
   "outputs": [],
   "source": []
  }
 ],
 "metadata": {
  "kernelspec": {
   "display_name": "trade_env",
   "language": "python",
   "name": "trade_env"
  },
  "language_info": {
   "codemirror_mode": {
    "name": "ipython",
    "version": 3
   },
   "file_extension": ".py",
   "mimetype": "text/x-python",
   "name": "python",
   "nbconvert_exporter": "python",
   "pygments_lexer": "ipython3",
   "version": "3.11.7"
  }
 },
 "nbformat": 4,
 "nbformat_minor": 2
}
